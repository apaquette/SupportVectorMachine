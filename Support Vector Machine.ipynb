{
 "cells": [
  {
   "cell_type": "markdown",
   "id": "42277074",
   "metadata": {},
   "source": [
    "<a class=\"anchor\" id=\"0.1\"></a>\n",
    "# **Table of Contents**\n",
    "1. [Introduction](#1)\n",
    "2. [Changelog](#2)\n",
    "3. [Business Understanding](#3)\n",
    "4. [Data Understanding](#4)\n",
    "5. [Data Preperation](#5)\n",
    "6. [Modeling](#6)\n",
    "7. [Evaluation](#7)\n",
    "8. [Improvements](#8)\n",
    "9. [Conclusion](#9)"
   ]
  },
  {
   "cell_type": "markdown",
   "id": "eae9c616",
   "metadata": {},
   "source": [
    "# **1. Introduction** <a class=\"anchor\" id=\"1\"></a>\n",
    "[Table of Contents](#0.1)\n",
    "\n",
    "This notebook will explore Support Vector Machine by going through the CRISP-DM process. The goal is to gain insight of how to use SVM in Python and their usefulness. This notebook will be borrowing heavily from "
   ]
  },
  {
   "cell_type": "markdown",
   "id": "e65ab074",
   "metadata": {},
   "source": [
    "# **2. Changelog** <a class=\"anchor\" id=\"2\"></a>\n",
    "[Table of Contents](#0.1)"
   ]
  },
  {
   "cell_type": "markdown",
   "id": "d05e9bb9",
   "metadata": {},
   "source": [
    "# **3. Business Understanding** <a class=\"anchor\" id=\"3\"></a>\n",
    "[Table of Contents](#0.1)"
   ]
  },
  {
   "cell_type": "markdown",
   "id": "72b13495",
   "metadata": {},
   "source": [
    "# **4. Data Understanding** <a class=\"anchor\" id=\"4\"></a>\n",
    "[Table of Contents](#0.1)"
   ]
  },
  {
   "cell_type": "markdown",
   "id": "32451f69",
   "metadata": {},
   "source": [
    "# **5. Data Preperation** <a class=\"anchor\" id=\"5\"></a>\n",
    "[Table of Contents](#0.1)"
   ]
  },
  {
   "cell_type": "markdown",
   "id": "f1b985a2",
   "metadata": {},
   "source": [
    "# **6. Modeling** <a class=\"anchor\" id=\"6\"></a>\n",
    "[Table of Contents](#0.1)"
   ]
  },
  {
   "cell_type": "markdown",
   "id": "25cfc406",
   "metadata": {},
   "source": [
    "# **7. Evaluation** <a class=\"anchor\" id=\"7\"></a>\n",
    "[Table of Contents](#0.1)"
   ]
  },
  {
   "cell_type": "markdown",
   "id": "a5500ce9",
   "metadata": {},
   "source": [
    "# **8. Improvements** <a class=\"anchor\" id=\"8\"></a>\n",
    "[Table of Contents](#0.1)"
   ]
  },
  {
   "cell_type": "markdown",
   "id": "c42142a9",
   "metadata": {},
   "source": [
    "# **9. Conclusion** <a class=\"anchor\" id=\"9\"></a>\n",
    "[Table of Contents](#0.1)"
   ]
  },
  {
   "cell_type": "code",
   "execution_count": null,
   "id": "180b351e",
   "metadata": {},
   "outputs": [],
   "source": []
  }
 ],
 "metadata": {
  "kernelspec": {
   "display_name": "Python 3 (ipykernel)",
   "language": "python",
   "name": "python3"
  },
  "language_info": {
   "codemirror_mode": {
    "name": "ipython",
    "version": 3
   },
   "file_extension": ".py",
   "mimetype": "text/x-python",
   "name": "python",
   "nbconvert_exporter": "python",
   "pygments_lexer": "ipython3",
   "version": "3.11.5"
  }
 },
 "nbformat": 4,
 "nbformat_minor": 5
}
