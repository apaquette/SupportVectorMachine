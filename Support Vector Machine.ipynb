{
 "cells": [
  {
   "cell_type": "markdown",
   "id": "07b361e6",
   "metadata": {},
   "source": [
    "<a class=\"anchor\" id=\"0.1\"></a>\n",
    "# **Table of Contents**"
   ]
  },
  {
   "cell_type": "markdown",
   "id": "a26c7612",
   "metadata": {},
   "source": [
    "# **1. Introduction** <a class=\"anchor\" id=\"1\"></a>\n",
    "[Table of Contents](#0.1)"
   ]
  },
  {
   "cell_type": "markdown",
   "id": "ac8eef83",
   "metadata": {},
   "source": [
    "# **2. Changelog** <a class=\"anchor\" id=\"2\"></a>\n",
    "[Table of Contents](#0.1)"
   ]
  },
  {
   "cell_type": "markdown",
   "id": "fb41bd7a",
   "metadata": {},
   "source": [
    "# **3. Business Understanding** <a class=\"anchor\" id=\"3\"></a>\n",
    "[Table of Contents](#0.1)"
   ]
  },
  {
   "cell_type": "markdown",
   "id": "234cc91f",
   "metadata": {},
   "source": [
    "# **4. Data Understanding** <a class=\"anchor\" id=\"4\"></a>\n",
    "[Table of Contents](#0.1)"
   ]
  },
  {
   "cell_type": "markdown",
   "id": "a1568201",
   "metadata": {},
   "source": [
    "# **5. Data Preperation** <a class=\"anchor\" id=\"5\"></a>\n",
    "[Table of Contents](#0.1)"
   ]
  },
  {
   "cell_type": "code",
   "execution_count": null,
   "id": "1e9a5a9c",
   "metadata": {},
   "outputs": [],
   "source": []
  }
 ],
 "metadata": {
  "kernelspec": {
   "display_name": "Python 3 (ipykernel)",
   "language": "python",
   "name": "python3"
  },
  "language_info": {
   "codemirror_mode": {
    "name": "ipython",
    "version": 3
   },
   "file_extension": ".py",
   "mimetype": "text/x-python",
   "name": "python",
   "nbconvert_exporter": "python",
   "pygments_lexer": "ipython3",
   "version": "3.11.5"
  }
 },
 "nbformat": 4,
 "nbformat_minor": 5
}
