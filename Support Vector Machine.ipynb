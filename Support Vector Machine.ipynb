{
 "cells": [
  {
   "cell_type": "markdown",
   "id": "cfc0fc0b",
   "metadata": {},
   "source": [
    "<a class=\"anchor\" id=\"0.1\"></a>\n",
    "# **Table of Contents**\n",
    "1. [Introduction](#1)\n",
    "2. [Changelog](#2)\n",
    "3. [Business Understanding](#3)\n",
    "4. [Data Understanding](#4)\n",
    "5. [Data Preperation](#5)\n",
    "6. [Modeling](#6)\n",
    "7. [Evaluation](#7)\n",
    "8. [Improvements](#8)\n",
    "9. [Conclusion](#9)"
   ]
  },
  {
   "cell_type": "markdown",
   "id": "13a0fb86",
   "metadata": {},
   "source": [
    "# **1. Introduction** <a class=\"anchor\" id=\"1\"></a>\n",
    "[Table of Contents](#0.1)\n",
    "\n",
    "This notebook will explore Support Vector Machine by going through the CRISP-DM process. The goal is to gain insight of how to use SVM in Python and their usefulness. This notebook will be borrowing from Anand Prabhakar's notebook [Python-Support-vector-machines](https://github.com/ipython-books/cookbook-2nd-code/blob/master/chapter08_ml/05_svm.ipynb) on the same topic. I highly recommend you read his notebook."
   ]
  },
  {
   "cell_type": "markdown",
   "id": "889dc151",
   "metadata": {},
   "source": [
    "# **2. Changelog** <a class=\"anchor\" id=\"2\"></a>\n",
    "[Table of Contents](#0.1)"
   ]
  },
  {
   "cell_type": "markdown",
   "id": "f23aa4c5",
   "metadata": {},
   "source": [
    "# **3. Business Understanding** <a class=\"anchor\" id=\"3\"></a>\n",
    "[Table of Contents](#0.1)\n",
    "\n",
    "The dataset I will be using for this notebook is the [Apple Quality](https://www.kaggle.com/datasets/nelgiriyewithana/apple-quality). Each record represents an apple with its quality labeled as good or bad.\n",
    "\n",
    "For each apple, there are the following labels:\n",
    "- Size: Size of the fruit\n",
    "- Weight: Weight of the fruit\n",
    "- Sweetness: Degree of sweetness of the fruit\n",
    "- Crunchiness: Texture indicating the crunchiness of the fruit\n",
    "- Juiciness: Level of juiciness of the fruit\n",
    "- Ripeness: Stage of ripeness of the fruit\n",
    "- Acidity: Acidity level of the fruit\n",
    "\n",
    "For our purposes, we likely want to pick two of these labels to train our model on, as SVMs tends to work best with 2 dimensional data. Since our goal is to categorize the apples as good or bad quality, it is likely that ripeness will be a good label to make this prediction. However we may want to experiment with the other labels to determine which one is best to train the model."
   ]
  },
  {
   "cell_type": "markdown",
   "id": "689b358f",
   "metadata": {},
   "source": [
    "# **4. Data Understanding** <a class=\"anchor\" id=\"4\"></a>\n",
    "[Table of Contents](#0.1)\n",
    "\n",
    "We will now explore our dataset to understand what type of data we are working with. First, we must import our dataset into python."
   ]
  },
  {
   "cell_type": "code",
   "execution_count": 1,
   "id": "1cd3032a",
   "metadata": {},
   "outputs": [],
   "source": [
    "# This library will help us access our file\n",
    "try:\n",
    "    import os\n",
    "except:\n",
    "    !pip install os\n",
    "    import os\n",
    "    \n",
    "# This library is for data processing, and CSV file I/O\n",
    "try:\n",
    "    import pandas as pd\n",
    "except:\n",
    "    !pip install pandas\n",
    "    import pandas as pd"
   ]
  },
  {
   "cell_type": "code",
   "execution_count": 2,
   "id": "b01b42a8",
   "metadata": {},
   "outputs": [],
   "source": [
    "current_working_directory = os.getcwd()\n",
    "file = r'\\input\\apple_quality.csv' #this directory may differ for you\n",
    "data = current_working_directory + file\n",
    "\n",
    "df = pd.read_csv(data, header=0,sep=',')"
   ]
  },
  {
   "cell_type": "markdown",
   "id": "91c4cded",
   "metadata": {},
   "source": [
    "Now that we've imported our data, we can explore it to gain insights"
   ]
  },
  {
   "cell_type": "code",
   "execution_count": 3,
   "id": "01a8ff12",
   "metadata": {},
   "outputs": [
    {
     "data": {
      "text/plain": [
       "(4001, 9)"
      ]
     },
     "execution_count": 3,
     "metadata": {},
     "output_type": "execute_result"
    }
   ],
   "source": [
    "df.shape"
   ]
  },
  {
   "cell_type": "markdown",
   "id": "737f56ea",
   "metadata": {},
   "source": [
    "This tells us that there are 4001 instance, and 17 attributes in our dataset."
   ]
  },
  {
   "cell_type": "code",
   "execution_count": 4,
   "id": "261a922a",
   "metadata": {
    "scrolled": false
   },
   "outputs": [
    {
     "data": {
      "text/html": [
       "<div>\n",
       "<style scoped>\n",
       "    .dataframe tbody tr th:only-of-type {\n",
       "        vertical-align: middle;\n",
       "    }\n",
       "\n",
       "    .dataframe tbody tr th {\n",
       "        vertical-align: top;\n",
       "    }\n",
       "\n",
       "    .dataframe thead th {\n",
       "        text-align: right;\n",
       "    }\n",
       "</style>\n",
       "<table border=\"1\" class=\"dataframe\">\n",
       "  <thead>\n",
       "    <tr style=\"text-align: right;\">\n",
       "      <th></th>\n",
       "      <th>A_id</th>\n",
       "      <th>Size</th>\n",
       "      <th>Weight</th>\n",
       "      <th>Sweetness</th>\n",
       "      <th>Crunchiness</th>\n",
       "      <th>Juiciness</th>\n",
       "      <th>Ripeness</th>\n",
       "      <th>Acidity</th>\n",
       "      <th>Quality</th>\n",
       "    </tr>\n",
       "  </thead>\n",
       "  <tbody>\n",
       "    <tr>\n",
       "      <th>0</th>\n",
       "      <td>0.0</td>\n",
       "      <td>-3.970049</td>\n",
       "      <td>-2.512336</td>\n",
       "      <td>5.346330</td>\n",
       "      <td>-1.012009</td>\n",
       "      <td>1.844900</td>\n",
       "      <td>0.329840</td>\n",
       "      <td>-0.491590483</td>\n",
       "      <td>good</td>\n",
       "    </tr>\n",
       "    <tr>\n",
       "      <th>1</th>\n",
       "      <td>1.0</td>\n",
       "      <td>-1.195217</td>\n",
       "      <td>-2.839257</td>\n",
       "      <td>3.664059</td>\n",
       "      <td>1.588232</td>\n",
       "      <td>0.853286</td>\n",
       "      <td>0.867530</td>\n",
       "      <td>-0.722809367</td>\n",
       "      <td>good</td>\n",
       "    </tr>\n",
       "    <tr>\n",
       "      <th>2</th>\n",
       "      <td>2.0</td>\n",
       "      <td>-0.292024</td>\n",
       "      <td>-1.351282</td>\n",
       "      <td>-1.738429</td>\n",
       "      <td>-0.342616</td>\n",
       "      <td>2.838636</td>\n",
       "      <td>-0.038033</td>\n",
       "      <td>2.621636473</td>\n",
       "      <td>bad</td>\n",
       "    </tr>\n",
       "    <tr>\n",
       "      <th>3</th>\n",
       "      <td>3.0</td>\n",
       "      <td>-0.657196</td>\n",
       "      <td>-2.271627</td>\n",
       "      <td>1.324874</td>\n",
       "      <td>-0.097875</td>\n",
       "      <td>3.637970</td>\n",
       "      <td>-3.413761</td>\n",
       "      <td>0.790723217</td>\n",
       "      <td>good</td>\n",
       "    </tr>\n",
       "    <tr>\n",
       "      <th>4</th>\n",
       "      <td>4.0</td>\n",
       "      <td>1.364217</td>\n",
       "      <td>-1.296612</td>\n",
       "      <td>-0.384658</td>\n",
       "      <td>-0.553006</td>\n",
       "      <td>3.030874</td>\n",
       "      <td>-1.303849</td>\n",
       "      <td>0.501984036</td>\n",
       "      <td>good</td>\n",
       "    </tr>\n",
       "  </tbody>\n",
       "</table>\n",
       "</div>"
      ],
      "text/plain": [
       "   A_id      Size    Weight  Sweetness  Crunchiness  Juiciness  Ripeness  \\\n",
       "0   0.0 -3.970049 -2.512336   5.346330    -1.012009   1.844900  0.329840   \n",
       "1   1.0 -1.195217 -2.839257   3.664059     1.588232   0.853286  0.867530   \n",
       "2   2.0 -0.292024 -1.351282  -1.738429    -0.342616   2.838636 -0.038033   \n",
       "3   3.0 -0.657196 -2.271627   1.324874    -0.097875   3.637970 -3.413761   \n",
       "4   4.0  1.364217 -1.296612  -0.384658    -0.553006   3.030874 -1.303849   \n",
       "\n",
       "        Acidity Quality  \n",
       "0  -0.491590483    good  \n",
       "1  -0.722809367    good  \n",
       "2   2.621636473     bad  \n",
       "3   0.790723217    good  \n",
       "4   0.501984036    good  "
      ]
     },
     "execution_count": 4,
     "metadata": {},
     "output_type": "execute_result"
    }
   ],
   "source": [
    "df.head() #preview the top 5 rows"
   ]
  },
  {
   "cell_type": "code",
   "execution_count": 5,
   "id": "e0022316",
   "metadata": {},
   "outputs": [
    {
     "name": "stdout",
     "output_type": "stream",
     "text": [
      "<class 'pandas.core.frame.DataFrame'>\n",
      "RangeIndex: 4001 entries, 0 to 4000\n",
      "Data columns (total 9 columns):\n",
      " #   Column       Non-Null Count  Dtype  \n",
      "---  ------       --------------  -----  \n",
      " 0   A_id         4000 non-null   float64\n",
      " 1   Size         4000 non-null   float64\n",
      " 2   Weight       4000 non-null   float64\n",
      " 3   Sweetness    4000 non-null   float64\n",
      " 4   Crunchiness  4000 non-null   float64\n",
      " 5   Juiciness    4000 non-null   float64\n",
      " 6   Ripeness     4000 non-null   float64\n",
      " 7   Acidity      4001 non-null   object \n",
      " 8   Quality      4000 non-null   object \n",
      "dtypes: float64(7), object(2)\n",
      "memory usage: 281.4+ KB\n"
     ]
    }
   ],
   "source": [
    "df.info() #summary of the data"
   ]
  },
  {
   "cell_type": "markdown",
   "id": "12e6725a",
   "metadata": {},
   "source": [
    "From the summary, we can see there are missing values. However, there's a single missing value for each label except for one. If were lucky, this will be a single record we can ommit from the dataset. We will explore this further during our data preperation stage."
   ]
  },
  {
   "cell_type": "markdown",
   "id": "80f1361a",
   "metadata": {},
   "source": [
    "### Explore Categorical Variables"
   ]
  },
  {
   "cell_type": "code",
   "execution_count": 6,
   "id": "8ddd0dd1",
   "metadata": {
    "scrolled": true
   },
   "outputs": [
    {
     "name": "stdout",
     "output_type": "stream",
     "text": [
      "There are 2 categorical variables\n",
      "\n",
      "The categorical variables are: ['Acidity', 'Quality']\n"
     ]
    }
   ],
   "source": [
    "# identify categorical variables\n",
    "\n",
    "categorical = [var for var in df.columns if df[var].dtype=='O']\n",
    "\n",
    "print(f'There are {len(categorical)} categorical variables\\n')\n",
    "print(f'The categorical variables are: {categorical}')"
   ]
  },
  {
   "cell_type": "markdown",
   "id": "e806fa0f",
   "metadata": {},
   "source": [
    "However, all of our labels with the exception of quality should be numerical values. Looking at the summary of the data we can see the acidity is of type object. We'll need to convert the data to a numerical value during data preperation."
   ]
  },
  {
   "cell_type": "markdown",
   "id": "ab31e453",
   "metadata": {},
   "source": [
    "### Explore Numerical Variables"
   ]
  },
  {
   "cell_type": "code",
   "execution_count": 8,
   "id": "0fc91e59",
   "metadata": {},
   "outputs": [
    {
     "name": "stdout",
     "output_type": "stream",
     "text": [
      "There are 7 numerical variables\n",
      "\n",
      "The numerical variables are: ['A_id', 'Size', 'Weight', 'Sweetness', 'Crunchiness', 'Juiciness', 'Ripeness']\n"
     ]
    }
   ],
   "source": [
    "# identify numerical variables\n",
    "\n",
    "numerical = [var for var in df.columns if df[var].dtype!='O']\n",
    "\n",
    "print(f'There are {len(numerical)} numerical variables\\n')\n",
    "print(f'The numerical variables are: {numerical}')"
   ]
  },
  {
   "cell_type": "markdown",
   "id": "42ab3bb0",
   "metadata": {},
   "source": [
    "# **5. Data Preperation** <a class=\"anchor\" id=\"5\"></a>\n",
    "[Table of Contents](#0.1)"
   ]
  },
  {
   "cell_type": "markdown",
   "id": "41800b31",
   "metadata": {},
   "source": [
    "# **6. Modeling** <a class=\"anchor\" id=\"6\"></a>\n",
    "[Table of Contents](#0.1)"
   ]
  },
  {
   "cell_type": "markdown",
   "id": "66ddbd5f",
   "metadata": {},
   "source": [
    "# **7. Evaluation** <a class=\"anchor\" id=\"7\"></a>\n",
    "[Table of Contents](#0.1)"
   ]
  },
  {
   "cell_type": "markdown",
   "id": "a8c09c34",
   "metadata": {},
   "source": [
    "# **8. Improvements** <a class=\"anchor\" id=\"8\"></a>\n",
    "[Table of Contents](#0.1)"
   ]
  },
  {
   "cell_type": "markdown",
   "id": "284b572f",
   "metadata": {},
   "source": [
    "# **9. Conclusion** <a class=\"anchor\" id=\"9\"></a>\n",
    "[Table of Contents](#0.1)"
   ]
  },
  {
   "cell_type": "code",
   "execution_count": null,
   "id": "aa9937d2",
   "metadata": {},
   "outputs": [],
   "source": []
  }
 ],
 "metadata": {
  "kernelspec": {
   "display_name": "Python 3 (ipykernel)",
   "language": "python",
   "name": "python3"
  },
  "language_info": {
   "codemirror_mode": {
    "name": "ipython",
    "version": 3
   },
   "file_extension": ".py",
   "mimetype": "text/x-python",
   "name": "python",
   "nbconvert_exporter": "python",
   "pygments_lexer": "ipython3",
   "version": "3.11.5"
  }
 },
 "nbformat": 4,
 "nbformat_minor": 5
}
