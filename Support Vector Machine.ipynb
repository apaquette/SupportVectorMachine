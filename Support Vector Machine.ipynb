{
 "cells": [
  {
   "cell_type": "markdown",
   "id": "19b21fc7",
   "metadata": {},
   "source": [
    "<a class=\"anchor\" id=\"0.1\"></a>\n",
    "# **Table of Contents**\n",
    "1. [Introduction](#1)\n",
    "2. [Changelog](#2)\n",
    "3. [Business Understanding](#3)\n",
    "4. [Data Understanding](#4)\n",
    "5. [Data Preperation](#5)\n",
    "6. [Modeling](#6)\n",
    "7. [Evaluation](#7)\n",
    "8. [Improvements](#8)\n",
    "9. [Conclusion](#9)"
   ]
  },
  {
   "cell_type": "markdown",
   "id": "837d2a8b",
   "metadata": {},
   "source": [
    "# **1. Introduction** <a class=\"anchor\" id=\"1\"></a>\n",
    "[Table of Contents](#0.1)\n",
    "\n",
    "This notebook will explore Support Vector Machine by going through the CRISP-DM process. The goal is to gain insight of how to use SVM in Python and their usefulness. This notebook will be borrowing from Anand Prabhakar's notebook [Python-Support-vector-machines](https://github.com/ipython-books/cookbook-2nd-code/blob/master/chapter08_ml/05_svm.ipynb) on the same topic. I highly recommend you read his notebook."
   ]
  },
  {
   "attachments": {},
   "cell_type": "markdown",
   "id": "26d27649",
   "metadata": {},
   "source": [
    "# **2. Changelog** <a class=\"anchor\" id=\"2\"></a>\n",
    "[Table of Contents](#0.1)\n",
    "\n",
    "Below is the changelog of the modifications made to the [Python-Support-vector-machines](https://github.com/ipython-books/cookbook-2nd-code/blob/master/chapter08_ml/05_svm.ipynb) in Python notebook:\n",
    "\n",
    "- Changed \"cross_validation\" to \"model_selection\" in import from sklearn\n",
    "- Located and downloaded [dataset](https://www.kaggle.com/datasets/sam1o1/cell-samplescsv?select=cell_samples.csv) from kaggle\n",
    "- Modify code to retrieve dataset\n",
    "- Selected a different dataset for my own notebook\n",
    "- Went through business and data understanding, and data preparation similar to the Bayesian notebook, and independent of the SVM notebook\n",
    "- Used the same training method as the SVM notebook, but changed the training/testing sets from 20% to 30%\n",
    "- Used the same evaluation as Bayesian notebook\n",
    "- Added an improvements section where the model is re-trained\n",
    "- Added conclusion"
   ]
  },
  {
   "cell_type": "markdown",
   "id": "92776388",
   "metadata": {},
   "source": [
    "# **3. Business Understanding** <a class=\"anchor\" id=\"3\"></a>\n",
    "[Table of Contents](#0.1)\n",
    "\n",
    "The dataset I will be using for this notebook is the [Apple Quality](https://www.kaggle.com/datasets/nelgiriyewithana/apple-quality). Each record represents an apple with its quality labeled as good or bad.\n",
    "\n",
    "For each apple, there are the following labels:\n",
    "- Size: Size of the fruit\n",
    "- Weight: Weight of the fruit\n",
    "- Sweetness: Degree of sweetness of the fruit\n",
    "- Crunchiness: Texture indicating the crunchiness of the fruit\n",
    "- Juiciness: Level of juiciness of the fruit\n",
    "- Ripeness: Stage of ripeness of the fruit\n",
    "- Acidity: Acidity level of the fruit\n",
    "\n",
    "For our purposes, we likely want to pick two of these labels to train our model on, as SVMs tends to work best with 2 dimensional data. Since our goal is to categorize the apples as good or bad quality, it is likely that ripeness will be a good label to make this prediction. However we may want to experiment with the other labels to determine which one is best to train the model."
   ]
  },
  {
   "cell_type": "markdown",
   "id": "ee4d643b",
   "metadata": {},
   "source": [
    "# **4. Data Understanding** <a class=\"anchor\" id=\"4\"></a>\n",
    "[Table of Contents](#0.1)\n",
    "\n",
    "We will now explore our dataset to understand what type of data we are working with. First, we must import our dataset into python."
   ]
  },
  {
   "cell_type": "code",
   "execution_count": 1,
   "id": "ddd00894",
   "metadata": {},
   "outputs": [],
   "source": [
    "# This library will help us access our file\n",
    "try:\n",
    "    import os\n",
    "except:\n",
    "    !pip install os\n",
    "    import os\n",
    "    \n",
    "# This library is for data processing, and CSV file I/O\n",
    "try:\n",
    "    import pandas as pd\n",
    "except:\n",
    "    !pip install pandas\n",
    "    import pandas as pd"
   ]
  },
  {
   "cell_type": "code",
   "execution_count": 2,
   "id": "ede493d3",
   "metadata": {},
   "outputs": [],
   "source": [
    "current_working_directory = os.getcwd()\n",
    "file = r'\\input\\apple_quality.csv' #this directory may differ for you\n",
    "data = current_working_directory + file\n",
    "\n",
    "df = pd.read_csv(data, header=0,sep=',')"
   ]
  },
  {
   "cell_type": "markdown",
   "id": "6ab356ce",
   "metadata": {},
   "source": [
    "Now that we've imported our data, we can explore it to gain insights"
   ]
  },
  {
   "cell_type": "code",
   "execution_count": 3,
   "id": "342b2d08",
   "metadata": {},
   "outputs": [
    {
     "data": {
      "text/plain": [
       "(4001, 9)"
      ]
     },
     "execution_count": 3,
     "metadata": {},
     "output_type": "execute_result"
    }
   ],
   "source": [
    "df.shape"
   ]
  },
  {
   "cell_type": "markdown",
   "id": "4e6675a1",
   "metadata": {},
   "source": [
    "This tells us that there are 4001 instance, and 17 attributes in our dataset."
   ]
  },
  {
   "cell_type": "code",
   "execution_count": 4,
   "id": "22bed718",
   "metadata": {
    "scrolled": false
   },
   "outputs": [
    {
     "data": {
      "text/html": [
       "<div>\n",
       "<style scoped>\n",
       "    .dataframe tbody tr th:only-of-type {\n",
       "        vertical-align: middle;\n",
       "    }\n",
       "\n",
       "    .dataframe tbody tr th {\n",
       "        vertical-align: top;\n",
       "    }\n",
       "\n",
       "    .dataframe thead th {\n",
       "        text-align: right;\n",
       "    }\n",
       "</style>\n",
       "<table border=\"1\" class=\"dataframe\">\n",
       "  <thead>\n",
       "    <tr style=\"text-align: right;\">\n",
       "      <th></th>\n",
       "      <th>A_id</th>\n",
       "      <th>Size</th>\n",
       "      <th>Weight</th>\n",
       "      <th>Sweetness</th>\n",
       "      <th>Crunchiness</th>\n",
       "      <th>Juiciness</th>\n",
       "      <th>Ripeness</th>\n",
       "      <th>Acidity</th>\n",
       "      <th>Quality</th>\n",
       "    </tr>\n",
       "  </thead>\n",
       "  <tbody>\n",
       "    <tr>\n",
       "      <th>0</th>\n",
       "      <td>0.0</td>\n",
       "      <td>-3.970049</td>\n",
       "      <td>-2.512336</td>\n",
       "      <td>5.346330</td>\n",
       "      <td>-1.012009</td>\n",
       "      <td>1.844900</td>\n",
       "      <td>0.329840</td>\n",
       "      <td>-0.491590483</td>\n",
       "      <td>good</td>\n",
       "    </tr>\n",
       "    <tr>\n",
       "      <th>1</th>\n",
       "      <td>1.0</td>\n",
       "      <td>-1.195217</td>\n",
       "      <td>-2.839257</td>\n",
       "      <td>3.664059</td>\n",
       "      <td>1.588232</td>\n",
       "      <td>0.853286</td>\n",
       "      <td>0.867530</td>\n",
       "      <td>-0.722809367</td>\n",
       "      <td>good</td>\n",
       "    </tr>\n",
       "    <tr>\n",
       "      <th>2</th>\n",
       "      <td>2.0</td>\n",
       "      <td>-0.292024</td>\n",
       "      <td>-1.351282</td>\n",
       "      <td>-1.738429</td>\n",
       "      <td>-0.342616</td>\n",
       "      <td>2.838636</td>\n",
       "      <td>-0.038033</td>\n",
       "      <td>2.621636473</td>\n",
       "      <td>bad</td>\n",
       "    </tr>\n",
       "    <tr>\n",
       "      <th>3</th>\n",
       "      <td>3.0</td>\n",
       "      <td>-0.657196</td>\n",
       "      <td>-2.271627</td>\n",
       "      <td>1.324874</td>\n",
       "      <td>-0.097875</td>\n",
       "      <td>3.637970</td>\n",
       "      <td>-3.413761</td>\n",
       "      <td>0.790723217</td>\n",
       "      <td>good</td>\n",
       "    </tr>\n",
       "    <tr>\n",
       "      <th>4</th>\n",
       "      <td>4.0</td>\n",
       "      <td>1.364217</td>\n",
       "      <td>-1.296612</td>\n",
       "      <td>-0.384658</td>\n",
       "      <td>-0.553006</td>\n",
       "      <td>3.030874</td>\n",
       "      <td>-1.303849</td>\n",
       "      <td>0.501984036</td>\n",
       "      <td>good</td>\n",
       "    </tr>\n",
       "  </tbody>\n",
       "</table>\n",
       "</div>"
      ],
      "text/plain": [
       "   A_id      Size    Weight  Sweetness  Crunchiness  Juiciness  Ripeness  \\\n",
       "0   0.0 -3.970049 -2.512336   5.346330    -1.012009   1.844900  0.329840   \n",
       "1   1.0 -1.195217 -2.839257   3.664059     1.588232   0.853286  0.867530   \n",
       "2   2.0 -0.292024 -1.351282  -1.738429    -0.342616   2.838636 -0.038033   \n",
       "3   3.0 -0.657196 -2.271627   1.324874    -0.097875   3.637970 -3.413761   \n",
       "4   4.0  1.364217 -1.296612  -0.384658    -0.553006   3.030874 -1.303849   \n",
       "\n",
       "        Acidity Quality  \n",
       "0  -0.491590483    good  \n",
       "1  -0.722809367    good  \n",
       "2   2.621636473     bad  \n",
       "3   0.790723217    good  \n",
       "4   0.501984036    good  "
      ]
     },
     "execution_count": 4,
     "metadata": {},
     "output_type": "execute_result"
    }
   ],
   "source": [
    "df.head() #preview the top 5 rows"
   ]
  },
  {
   "cell_type": "code",
   "execution_count": 5,
   "id": "549ad314",
   "metadata": {},
   "outputs": [
    {
     "name": "stdout",
     "output_type": "stream",
     "text": [
      "<class 'pandas.core.frame.DataFrame'>\n",
      "RangeIndex: 4001 entries, 0 to 4000\n",
      "Data columns (total 9 columns):\n",
      " #   Column       Non-Null Count  Dtype  \n",
      "---  ------       --------------  -----  \n",
      " 0   A_id         4000 non-null   float64\n",
      " 1   Size         4000 non-null   float64\n",
      " 2   Weight       4000 non-null   float64\n",
      " 3   Sweetness    4000 non-null   float64\n",
      " 4   Crunchiness  4000 non-null   float64\n",
      " 5   Juiciness    4000 non-null   float64\n",
      " 6   Ripeness     4000 non-null   float64\n",
      " 7   Acidity      4001 non-null   object \n",
      " 8   Quality      4000 non-null   object \n",
      "dtypes: float64(7), object(2)\n",
      "memory usage: 281.4+ KB\n"
     ]
    }
   ],
   "source": [
    "df.info() #summary of the data"
   ]
  },
  {
   "cell_type": "markdown",
   "id": "97beb85e",
   "metadata": {},
   "source": [
    "From the summary, we can see there are missing values. However, there's a single missing value for each label except for one. If were lucky, this will be a single record we can ommit from the dataset. We will explore this further during our data preperation stage."
   ]
  },
  {
   "cell_type": "markdown",
   "id": "e532f0b2",
   "metadata": {},
   "source": [
    "### Explore Categorical Variables"
   ]
  },
  {
   "cell_type": "code",
   "execution_count": 6,
   "id": "c361d2a0",
   "metadata": {
    "scrolled": true
   },
   "outputs": [
    {
     "name": "stdout",
     "output_type": "stream",
     "text": [
      "There are 2 categorical variables\n",
      "\n",
      "The categorical variables are: ['Acidity', 'Quality']\n"
     ]
    }
   ],
   "source": [
    "# identify categorical variables\n",
    "\n",
    "categorical = [var for var in df.columns if df[var].dtype=='O']\n",
    "\n",
    "print(f'There are {len(categorical)} categorical variables\\n')\n",
    "print(f'The categorical variables are: {categorical}')"
   ]
  },
  {
   "cell_type": "markdown",
   "id": "d33dc26a",
   "metadata": {},
   "source": [
    "However, all of our labels with the exception of quality should be numerical values. Looking at the summary of the data we can see the acidity is of type object. We'll need to convert the data to a numerical value during data preperation."
   ]
  },
  {
   "cell_type": "markdown",
   "id": "6ce54700",
   "metadata": {},
   "source": [
    "### Explore Numerical Variables"
   ]
  },
  {
   "cell_type": "code",
   "execution_count": 7,
   "id": "ba23bcec",
   "metadata": {},
   "outputs": [
    {
     "name": "stdout",
     "output_type": "stream",
     "text": [
      "There are 7 numerical variables\n",
      "\n",
      "The numerical variables are: ['A_id', 'Size', 'Weight', 'Sweetness', 'Crunchiness', 'Juiciness', 'Ripeness']\n"
     ]
    }
   ],
   "source": [
    "# identify numerical variables\n",
    "\n",
    "numerical = [var for var in df.columns if df[var].dtype!='O']\n",
    "\n",
    "print(f'There are {len(numerical)} numerical variables\\n')\n",
    "print(f'The numerical variables are: {numerical}')"
   ]
  },
  {
   "cell_type": "markdown",
   "id": "4a9ea3c2",
   "metadata": {},
   "source": [
    "# **5. Data Preperation** <a class=\"anchor\" id=\"5\"></a>\n",
    "[Table of Contents](#0.1)\n",
    "\n",
    "During Data Understanding, we noticed there are some missing variables. There is also one label of type object that should be numerical. In this section we will handle for missing data, remove unecessary labels, as well as converting data types to the correct type."
   ]
  },
  {
   "cell_type": "code",
   "execution_count": 8,
   "id": "e882ad87",
   "metadata": {},
   "outputs": [
    {
     "data": {
      "text/plain": [
       "A_id           1\n",
       "Size           1\n",
       "Weight         1\n",
       "Sweetness      1\n",
       "Crunchiness    1\n",
       "Juiciness      1\n",
       "Ripeness       1\n",
       "dtype: int64"
      ]
     },
     "execution_count": 8,
     "metadata": {},
     "output_type": "execute_result"
    }
   ],
   "source": [
    "df[numerical].isnull().sum()"
   ]
  },
  {
   "cell_type": "markdown",
   "id": "0a711014",
   "metadata": {},
   "source": [
    "Here we can see there are null values for each category. Next we will remove all null values and check again."
   ]
  },
  {
   "cell_type": "code",
   "execution_count": 9,
   "id": "e34be299",
   "metadata": {},
   "outputs": [
    {
     "data": {
      "text/plain": [
       "A_id           0\n",
       "Size           0\n",
       "Weight         0\n",
       "Sweetness      0\n",
       "Crunchiness    0\n",
       "Juiciness      0\n",
       "Ripeness       0\n",
       "dtype: int64"
      ]
     },
     "execution_count": 9,
     "metadata": {},
     "output_type": "execute_result"
    }
   ],
   "source": [
    "df.dropna(inplace=True) # remove all null values from the dataframe\n",
    "df[numerical].isnull().sum()"
   ]
  },
  {
   "cell_type": "markdown",
   "id": "d8157206",
   "metadata": {},
   "source": [
    "Next we will drop the `A_id` column as it's not needed for our purposes."
   ]
  },
  {
   "cell_type": "code",
   "execution_count": 10,
   "id": "9103ee69",
   "metadata": {},
   "outputs": [
    {
     "name": "stdout",
     "output_type": "stream",
     "text": [
      "<class 'pandas.core.frame.DataFrame'>\n",
      "Index: 4000 entries, 0 to 3999\n",
      "Data columns (total 8 columns):\n",
      " #   Column       Non-Null Count  Dtype  \n",
      "---  ------       --------------  -----  \n",
      " 0   Size         4000 non-null   float64\n",
      " 1   Weight       4000 non-null   float64\n",
      " 2   Sweetness    4000 non-null   float64\n",
      " 3   Crunchiness  4000 non-null   float64\n",
      " 4   Juiciness    4000 non-null   float64\n",
      " 5   Ripeness     4000 non-null   float64\n",
      " 6   Acidity      4000 non-null   object \n",
      " 7   Quality      4000 non-null   object \n",
      "dtypes: float64(6), object(2)\n",
      "memory usage: 281.2+ KB\n"
     ]
    }
   ],
   "source": [
    "df.drop('A_id', axis=1, inplace=True)\n",
    "df.info()"
   ]
  },
  {
   "cell_type": "markdown",
   "id": "f8f4ba90",
   "metadata": {},
   "source": [
    "Next, I will change the datatype of the Acidity label from object to float64"
   ]
  },
  {
   "cell_type": "code",
   "execution_count": 11,
   "id": "e7b6bd5e",
   "metadata": {},
   "outputs": [
    {
     "name": "stdout",
     "output_type": "stream",
     "text": [
      "<class 'pandas.core.frame.DataFrame'>\n",
      "Index: 4000 entries, 0 to 3999\n",
      "Data columns (total 8 columns):\n",
      " #   Column       Non-Null Count  Dtype  \n",
      "---  ------       --------------  -----  \n",
      " 0   Size         4000 non-null   float64\n",
      " 1   Weight       4000 non-null   float64\n",
      " 2   Sweetness    4000 non-null   float64\n",
      " 3   Crunchiness  4000 non-null   float64\n",
      " 4   Juiciness    4000 non-null   float64\n",
      " 5   Ripeness     4000 non-null   float64\n",
      " 6   Acidity      4000 non-null   float32\n",
      " 7   Quality      4000 non-null   object \n",
      "dtypes: float32(1), float64(6), object(1)\n",
      "memory usage: 265.6+ KB\n"
     ]
    }
   ],
   "source": [
    "df['Acidity'] = pd.to_numeric(df['Acidity'], errors='coerce', downcast='float')\n",
    "df.info()"
   ]
  },
  {
   "cell_type": "markdown",
   "id": "b2b2306b",
   "metadata": {},
   "source": [
    "Now that we've converted the Acidity label to a float, we want to reassign our numerical and categorical variables"
   ]
  },
  {
   "cell_type": "code",
   "execution_count": 12,
   "id": "4ebe5589",
   "metadata": {},
   "outputs": [
    {
     "name": "stdout",
     "output_type": "stream",
     "text": [
      "There are 1 categorical variables\n",
      "\n",
      "The categorical variables are: ['Quality']\n",
      "\n",
      "\n",
      "There are 7 numerical variables\n",
      "\n",
      "The numerical variables are: ['Size', 'Weight', 'Sweetness', 'Crunchiness', 'Juiciness', 'Ripeness', 'Acidity']\n"
     ]
    }
   ],
   "source": [
    "numerical = [var for var in df.columns if df[var].dtype!='O']\n",
    "categorical = [var for var in df.columns if df[var].dtype=='O']\n",
    "\n",
    "print(f'There are {len(categorical)} categorical variables\\n')\n",
    "print(f'The categorical variables are: {categorical}\\n\\n')\n",
    "\n",
    "print(f'There are {len(numerical)} numerical variables\\n')\n",
    "print(f'The numerical variables are: {numerical}')"
   ]
  },
  {
   "cell_type": "markdown",
   "id": "c0aff7b4",
   "metadata": {},
   "source": [
    "Next, we're goin to plot our apples and try different label combinations to see if we can find one that cleanly separates our good apples from our bad apples."
   ]
  },
  {
   "cell_type": "code",
   "execution_count": 13,
   "id": "75f0641b",
   "metadata": {},
   "outputs": [],
   "source": [
    "%matplotlib inline \n",
    "\n",
    "# This library is for plotting our data in a chart\n",
    "try:\n",
    "    import matplotlib.pyplot as plt\n",
    "except:\n",
    "    !pip install matplotlib\n",
    "    import matplotlib.pyplot as plt"
   ]
  },
  {
   "cell_type": "code",
   "execution_count": 14,
   "id": "76ccbb90",
   "metadata": {},
   "outputs": [
    {
     "data": {
      "image/png": "[encoded data removed]",
      "text/plain": [
       "<Figure size 640x480 with 1 Axes>"
      ]
     },
     "metadata": {},
     "output_type": "display_data"
    }
   ],
   "source": [
    "x_axis = 'Ripeness'\n",
    "y_axis = 'Crunchiness'\n",
    "\n",
    "ax = df[df['Quality'] == 'good'][0:100].plot(kind='scatter', x=x_axis, y=y_axis, color='DarkBlue', label='Good');\n",
    "df[df['Quality'] == 'bad'][0:100].plot(kind='scatter', x=x_axis, y=y_axis, color='Yellow', label='Bad', ax=ax);\n",
    "plt.show()"
   ]
  },
  {
   "cell_type": "markdown",
   "id": "03002bab",
   "metadata": {},
   "source": [
    "From the chart above, we can tell that the good and bad apples are not cleanly separated. In fact, even looking at just the `Ripeness`, it does not seem to be a good indicator of whether an apple is good or bad as we initially assumed. Next we will try different combinations of labels to see if we can find one that separates our data cleanly enough for the SVM."
   ]
  },
  {
   "cell_type": "code",
   "execution_count": 15,
   "id": "bfe25e46",
   "metadata": {
    "scrolled": false
   },
   "outputs": [
    {
     "data": {
      "image/png": "[encoded data removed]",
      "text/plain": [
       "<Figure size 640x480 with 1 Axes>"
      ]
     },
     "metadata": {},
     "output_type": "display_data"
    }
   ],
   "source": [
    "x_axis = 'Sweetness'\n",
    "y_axis = 'Juiciness'\n",
    "\n",
    "ax = df[df['Quality'] == 'good'][0:100].plot(kind='scatter', x=x_axis, y=y_axis, color='DarkBlue', label='Good');\n",
    "df[df['Quality'] == 'bad'][0:100].plot(kind='scatter', x=x_axis, y=y_axis, color='Yellow', label='Bad', ax=ax);\n",
    "plt.show()"
   ]
  },
  {
   "cell_type": "markdown",
   "id": "d3c488ce",
   "metadata": {},
   "source": [
    "`Sweetness` vs `Juiciness` seems like an improvement for our purposes. However, it's likely that if we wanted further seperation between the classes, we'd need to add a dimension, which would map the data to a higher dimension. To start, we will proceed with just two labels and see what results we can get."
   ]
  },
  {
   "cell_type": "code",
   "execution_count": 16,
   "id": "d2c91fe8",
   "metadata": {},
   "outputs": [
    {
     "name": "stdout",
     "output_type": "stream",
     "text": [
      "Train set: (2800, 2) (2800,)\n",
      "Test set: (1200, 2) (1200,)\n"
     ]
    }
   ],
   "source": [
    "try:\n",
    "    from sklearn.model_selection import train_test_split\n",
    "except:\n",
    "    !pip install sklearn\n",
    "    from sklearn.model_selection import train_test_split\n",
    "    \n",
    "try:\n",
    "    import numpy as np\n",
    "except:\n",
    "    !pip install numpy\n",
    "    import numpy as np\n",
    "\n",
    "feature_df = df[['Sweetness', 'Juiciness']]\n",
    "X = np.asarray(feature_df)\n",
    "y = np.asarray(df['Quality'])\n",
    "\n",
    "X_train, X_test, y_train, y_test = train_test_split( X, y, test_size=0.3, random_state=4)\n",
    "print ('Train set:', X_train.shape,  y_train.shape)\n",
    "print ('Test set:', X_test.shape,  y_test.shape)"
   ]
  },
  {
   "cell_type": "markdown",
   "id": "7bf7cea6",
   "metadata": {},
   "source": [
    "# **6. Modeling** <a class=\"anchor\" id=\"6\"></a>\n",
    "[Table of Contents](#0.1)\n",
    "\n",
    "Now that we've selected our labels, we can proceed with training the model.\n",
    "\n",
    "The SVM algorithm offers a choice of kernel functions for performing its processing. Basically, mapping data into a higher dimensional space is called kernelling. The mathematical function used for the transformation is known as the kernel function, and can be of different types, such as:\n",
    "\n",
    "    1.Linear\n",
    "    2.Polynomial\n",
    "    3.Radial basis function (RBF)\n",
    "    4.Sigmoid\n",
    "Each of these functions has its characteristics, its pros and cons, and its equation, but as there's no easy way of knowing which function performs best with any given dataset, we usually choose different functions in turn and compare the results. Let's just use the default, RBF (Radial Basis Function) for this lab.\n",
    "\n",
    "#### from Anand Prabhakar [Python-Support-vector-machines](https://github.com/ipython-books/cookbook-2nd-code/blob/master/chapter08_ml/05_svm.ipynb)"
   ]
  },
  {
   "cell_type": "code",
   "execution_count": 17,
   "id": "96745065",
   "metadata": {},
   "outputs": [
    {
     "data": {
      "text/html": [
       "<style>#sk-container-id-1 {color: black;}#sk-container-id-1 pre{padding: 0;}#sk-container-id-1 div.sk-toggleable {background-color: white;}#sk-container-id-1 label.sk-toggleable__label {cursor: pointer;display: block;width: 100%;margin-bottom: 0;padding: 0.3em;box-sizing: border-box;text-align: center;}#sk-container-id-1 label.sk-toggleable__label-arrow:before {content: \"▸\";float: left;margin-right: 0.25em;color: #696969;}#sk-container-id-1 label.sk-toggleable__label-arrow:hover:before {color: black;}#sk-container-id-1 div.sk-estimator:hover label.sk-toggleable__label-arrow:before {color: black;}#sk-container-id-1 div.sk-toggleable__content {max-height: 0;max-width: 0;overflow: hidden;text-align: left;background-color: #f0f8ff;}#sk-container-id-1 div.sk-toggleable__content pre {margin: 0.2em;color: black;border-radius: 0.25em;background-color: #f0f8ff;}#sk-container-id-1 input.sk-toggleable__control:checked~div.sk-toggleable__content {max-height: 200px;max-width: 100%;overflow: auto;}#sk-container-id-1 input.sk-toggleable__control:checked~label.sk-toggleable__label-arrow:before {content: \"▾\";}#sk-container-id-1 div.sk-estimator input.sk-toggleable__control:checked~label.sk-toggleable__label {background-color: #d4ebff;}#sk-container-id-1 div.sk-label input.sk-toggleable__control:checked~label.sk-toggleable__label {background-color: #d4ebff;}#sk-container-id-1 input.sk-hidden--visually {border: 0;clip: rect(1px 1px 1px 1px);clip: rect(1px, 1px, 1px, 1px);height: 1px;margin: -1px;overflow: hidden;padding: 0;position: absolute;width: 1px;}#sk-container-id-1 div.sk-estimator {font-family: monospace;background-color: #f0f8ff;border: 1px dotted black;border-radius: 0.25em;box-sizing: border-box;margin-bottom: 0.5em;}#sk-container-id-1 div.sk-estimator:hover {background-color: #d4ebff;}#sk-container-id-1 div.sk-parallel-item::after {content: \"\";width: 100%;border-bottom: 1px solid gray;flex-grow: 1;}#sk-container-id-1 div.sk-label:hover label.sk-toggleable__label {background-color: #d4ebff;}#sk-container-id-1 div.sk-serial::before {content: \"\";position: absolute;border-left: 1px solid gray;box-sizing: border-box;top: 0;bottom: 0;left: 50%;z-index: 0;}#sk-container-id-1 div.sk-serial {display: flex;flex-direction: column;align-items: center;background-color: white;padding-right: 0.2em;padding-left: 0.2em;position: relative;}#sk-container-id-1 div.sk-item {position: relative;z-index: 1;}#sk-container-id-1 div.sk-parallel {display: flex;align-items: stretch;justify-content: center;background-color: white;position: relative;}#sk-container-id-1 div.sk-item::before, #sk-container-id-1 div.sk-parallel-item::before {content: \"\";position: absolute;border-left: 1px solid gray;box-sizing: border-box;top: 0;bottom: 0;left: 50%;z-index: -1;}#sk-container-id-1 div.sk-parallel-item {display: flex;flex-direction: column;z-index: 1;position: relative;background-color: white;}#sk-container-id-1 div.sk-parallel-item:first-child::after {align-self: flex-end;width: 50%;}#sk-container-id-1 div.sk-parallel-item:last-child::after {align-self: flex-start;width: 50%;}#sk-container-id-1 div.sk-parallel-item:only-child::after {width: 0;}#sk-container-id-1 div.sk-dashed-wrapped {border: 1px dashed gray;margin: 0 0.4em 0.5em 0.4em;box-sizing: border-box;padding-bottom: 0.4em;background-color: white;}#sk-container-id-1 div.sk-label label {font-family: monospace;font-weight: bold;display: inline-block;line-height: 1.2em;}#sk-container-id-1 div.sk-label-container {text-align: center;}#sk-container-id-1 div.sk-container {/* jupyter's `normalize.less` sets `[hidden] { display: none; }` but bootstrap.min.css set `[hidden] { display: none !important; }` so we also need the `!important` here to be able to override the default hidden behavior on the sphinx rendered scikit-learn.org. See: https://github.com/scikit-learn/scikit-learn/issues/21755 */display: inline-block !important;position: relative;}#sk-container-id-1 div.sk-text-repr-fallback {display: none;}</style><div id=\"sk-container-id-1\" class=\"sk-top-container\"><div class=\"sk-text-repr-fallback\"><pre>SVC()</pre><b>In a Jupyter environment, please rerun this cell to show the HTML representation or trust the notebook. <br />On GitHub, the HTML representation is unable to render, please try loading this page with nbviewer.org.</b></div><div class=\"sk-container\" hidden><div class=\"sk-item\"><div class=\"sk-estimator sk-toggleable\"><input class=\"sk-toggleable__control sk-hidden--visually\" id=\"sk-estimator-id-1\" type=\"checkbox\" checked><label for=\"sk-estimator-id-1\" class=\"sk-toggleable__label sk-toggleable__label-arrow\">SVC</label><div class=\"sk-toggleable__content\"><pre>SVC()</pre></div></div></div></div></div>"
      ],
      "text/plain": [
       "SVC()"
      ]
     },
     "execution_count": 17,
     "metadata": {},
     "output_type": "execute_result"
    }
   ],
   "source": [
    "# This library is for training a SVM model\n",
    "try:\n",
    "    from sklearn import svm\n",
    "except:\n",
    "    !pip install sklearn\n",
    "    from sklearn import svm\n",
    "\n",
    "clf = svm.SVC(kernel='rbf')\n",
    "clf.fit(X_train, y_train)"
   ]
  },
  {
   "cell_type": "code",
   "execution_count": 18,
   "id": "b6f800ef",
   "metadata": {},
   "outputs": [
    {
     "data": {
      "text/plain": [
       "array(['bad', 'good', 'good', ..., 'good', 'bad', 'good'], dtype=object)"
      ]
     },
     "execution_count": 18,
     "metadata": {},
     "output_type": "execute_result"
    }
   ],
   "source": [
    "y_pred = clf.predict(X_test)\n",
    "y_pred"
   ]
  },
  {
   "cell_type": "markdown",
   "id": "ebb03432",
   "metadata": {},
   "source": [
    "# **7. Evaluation** <a class=\"anchor\" id=\"7\"></a>\n",
    "[Table of Contents](#0.1)\n",
    "\n",
    "Now that we've trained our model and made a prediction, we can check its accuracy against the training set accuracy."
   ]
  },
  {
   "cell_type": "code",
   "execution_count": 19,
   "id": "de6284db",
   "metadata": {},
   "outputs": [
    {
     "name": "stdout",
     "output_type": "stream",
     "text": [
      "Model accuracy score: 0.6433\n",
      "Training-set accuracy score: 0.6725\n"
     ]
    }
   ],
   "source": [
    "try:\n",
    "    from sklearn.metrics import accuracy_score\n",
    "except:\n",
    "    !pip install sklearn\n",
    "    from sklearn.metrics import accuracy_score\n",
    "\n",
    "y_pred_train = clf.predict(X_train)\n",
    "    \n",
    "print('Model accuracy score: {0:0.4f}'. format(accuracy_score(y_test, y_pred)))\n",
    "\n",
    "print('Training-set accuracy score: {0:0.4f}'. format(accuracy_score(y_train, y_pred_train)))"
   ]
  },
  {
   "cell_type": "markdown",
   "id": "166720e6",
   "metadata": {},
   "source": [
    "We have a difference of about 3% between our training and test sets, which may be indicative of some minor overfitting. Due to our large dataset, this is likely due to the low amounts of labels used for the prediction. During our improvements stage, we can try increasing the complexity of the model and see how this impacts our results."
   ]
  },
  {
   "cell_type": "markdown",
   "id": "502a6cfe",
   "metadata": {},
   "source": [
    "We can further evaluate our model by comaring its accuracy to the **null accuracy**."
   ]
  },
  {
   "cell_type": "code",
   "execution_count": 20,
   "id": "943ca7ba",
   "metadata": {},
   "outputs": [
    {
     "name": "stdout",
     "output_type": "stream",
     "text": [
      "Null accuracy score: 0.4850\n"
     ]
    }
   ],
   "source": [
    "# return the most frequent value\n",
    "most_frequent = (y_test == \"good\").sum() if (y_test == \"bad\").sum() >= (y_test == \"Yes\").sum() else (y_test == \"Yes\").sum()\n",
    "\n",
    "null_accuracy = most_frequent/len(y_test)\n",
    "print('Null accuracy score: {0:0.4f}'. format(null_accuracy))"
   ]
  },
  {
   "cell_type": "markdown",
   "id": "53af5642",
   "metadata": {},
   "source": [
    "Our model accuracy is higher than the null accuracy, so our model is doing a relatively good job classifying the labels for this dataset."
   ]
  },
  {
   "cell_type": "markdown",
   "id": "329a76c2",
   "metadata": {},
   "source": [
    "### Confusion matrix\n",
    "\n",
    "**True Positives (TP)** – True Positives occur when we predict an observation belongs to a certain class and the observation actually belongs to that class.\n",
    "\n",
    "\n",
    "**True Negatives (TN)** – True Negatives occur when we predict an observation does not belong to a certain class and the observation actually does not belong to that class.\n",
    "\n",
    "\n",
    "**False Positives (FP)** – False Positives occur when we predict an observation belongs to a    certain class but the observation actually does not belong to that class. This type of error is called **Type I error.**\n",
    "\n",
    "\n",
    "\n",
    "**False Negatives (FN)** – False Negatives occur when we predict an observation does not belong to a certain class but the observation actually belongs to that class. This is a very serious error and it is called **Type II error.**"
   ]
  },
  {
   "cell_type": "code",
   "execution_count": 21,
   "id": "621a2042",
   "metadata": {},
   "outputs": [
    {
     "name": "stdout",
     "output_type": "stream",
     "text": [
      "Confusion matrix\n",
      "\n",
      " [[396 222]\n",
      " [206 376]]\n",
      "\n",
      "True Positives(TP) =  396\n",
      "\n",
      "True Negatives(TN) =  376\n",
      "\n",
      "False Positives(FP) =  222\n",
      "\n",
      "False Negatives(FN) =  206\n"
     ]
    }
   ],
   "source": [
    "# Print the Confusion Matrix and slice it into four pieces\n",
    "\n",
    "try:\n",
    "    from sklearn.metrics import confusion_matrix\n",
    "except:\n",
    "    !pip install sklearn\n",
    "    from sklearn.metrics import confusion_matrix\n",
    "\n",
    "cm = confusion_matrix(y_test, y_pred)\n",
    "\n",
    "print('Confusion matrix\\n\\n', cm)\n",
    "\n",
    "print('\\nTrue Positives(TP) = ', cm[0,0])\n",
    "\n",
    "print('\\nTrue Negatives(TN) = ', cm[1,1])\n",
    "\n",
    "print('\\nFalse Positives(FP) = ', cm[0,1])\n",
    "\n",
    "print('\\nFalse Negatives(FN) = ', cm[1,0])"
   ]
  },
  {
   "cell_type": "markdown",
   "id": "f1e038e1",
   "metadata": {},
   "source": [
    "The confusion matrix shows `396 + 376 = 772 correct predictions` and `222 + 206 = 428 incorrect predictions`. Next we will visualize this graphically."
   ]
  },
  {
   "cell_type": "code",
   "execution_count": 22,
   "id": "d28cf5d5",
   "metadata": {
    "scrolled": false
   },
   "outputs": [
    {
     "name": "stdout",
     "output_type": "stream",
     "text": [
      "              precision    recall  f1-score   support\n",
      "\n",
      "         bad       0.66      0.64      0.65       618\n",
      "        good       0.63      0.65      0.64       582\n",
      "\n",
      "    accuracy                           0.64      1200\n",
      "   macro avg       0.64      0.64      0.64      1200\n",
      "weighted avg       0.64      0.64      0.64      1200\n",
      "\n"
     ]
    },
    {
     "data": {
      "text/plain": [
       "<Axes: >"
      ]
     },
     "execution_count": 22,
     "metadata": {},
     "output_type": "execute_result"
    },
    {
     "data": {
      "image/png": "[encoded data removed]",
      "text/plain": [
       "<Figure size 640x480 with 2 Axes>"
      ]
     },
     "metadata": {},
     "output_type": "display_data"
    }
   ],
   "source": [
    "# visualize confusion matrix with seaborn heatmap\n",
    "\n",
    "try:\n",
    "    import seaborn as sns # for statistical data visualization\n",
    "except:\n",
    "    !pip install seaborn\n",
    "    import seaborn as sns # for statistical data visualization\n",
    "\n",
    "try:\n",
    "    from sklearn.metrics import classification_report\n",
    "except:\n",
    "    !pip install sklearn\n",
    "    from sklearn.metrics import classification_report\n",
    "\n",
    "\n",
    "\n",
    "cm_matrix = pd.DataFrame(data=cm, columns=['Predict good', 'Predict bad'], \n",
    "                                 index=['Actual good', 'Actual bad'])\n",
    "\n",
    "print(classification_report(y_test, y_pred))\n",
    "sns.heatmap(cm_matrix, annot=True, fmt='d', cmap='YlGnBu')"
   ]
  },
  {
   "cell_type": "code",
   "execution_count": 23,
   "id": "067ccca6",
   "metadata": {},
   "outputs": [
    {
     "name": "stdout",
     "output_type": "stream",
     "text": [
      "Accuracy : 0.6433\n",
      "Precision : 0.6408\n",
      "Recall: 0.6578\n",
      "Specificity : 0.6288\n",
      "NPV: 0.6460\n",
      "F1 Score: 0.6492\n",
      "Balanced Accuracy: 0.6433\n"
     ]
    }
   ],
   "source": [
    "TP = cm[0,0]\n",
    "TN = cm[1,1]\n",
    "FP = cm[0,1]\n",
    "FN = cm[1,0]\n",
    "\n",
    "precision = TP / float(TP + FP)\n",
    "recall = TP / float(TP + FN)\n",
    "specificity = TN / (TN + FP)\n",
    "negative_predictive_value = TN / (TN + FN)\n",
    "accuracy = (TP + TN) / float(TP + TN + FP + FN)\n",
    "f1_score = 2*((precision * recall) / (precision + recall))\n",
    "balanced_accuracy = (recall + specificity) / 2\n",
    "\n",
    "print('Accuracy : {0:0.4f}'.format(accuracy))\n",
    "print('Precision : {0:0.4f}'.format(precision))\n",
    "print('Recall: {0:0.4f}'.format(recall))\n",
    "print('Specificity : {0:0.4f}'.format(specificity))\n",
    "print('NPV: {0:0.4f}'.format(negative_predictive_value))\n",
    "print('F1 Score: {0:0.4f}'.format(f1_score))\n",
    "print('Balanced Accuracy: {0:0.4f}'.format(balanced_accuracy))"
   ]
  },
  {
   "cell_type": "markdown",
   "id": "53516fab",
   "metadata": {},
   "source": [
    "# **8. Improvements** <a class=\"anchor\" id=\"8\"></a>\n",
    "[Table of Contents](#0.1)\n",
    "\n",
    "Now that we've trained our model, we can see that our accuracy is relatively low at `64%`. Ideally we'd want our accuracy to be above `80%`. Looking at our chart from before, this is likely because two labels is not enough to properly classify our apples between good and bad. To improve the model, we can try adding additional dimensions. This will add complexity to the model, but hopefully it will improve our accuracy to an acceptable range. In this step, we will re-train our model, but we will include all of the labels to start and see how the model changes."
   ]
  },
  {
   "cell_type": "code",
   "execution_count": 24,
   "id": "2282f092",
   "metadata": {},
   "outputs": [],
   "source": [
    "# get our data\n",
    "current_working_directory = os.getcwd()\n",
    "file = r'\\input\\apple_quality.csv' #this directory may differ for you\n",
    "data = current_working_directory + file\n",
    "\n",
    "df = pd.read_csv(data, header=0,sep=',')\n",
    "\n",
    "# data pre-processing\n",
    "df.dropna(inplace=True) # remove all null values from the dataframe\n",
    "df.drop('A_id', axis=1, inplace=True) # get rid of id column\n",
    "df['Acidity'] = pd.to_numeric(df['Acidity'], errors='coerce', downcast='float') # convert acidity from object to float\n",
    "\n",
    "# identify numerical and categorical variables\n",
    "numerical = [var for var in df.columns if df[var].dtype!='O']\n",
    "categorical = [var for var in df.columns if df[var].dtype=='O']\n",
    "\n",
    "# get our training and testing sets\n",
    "feature_df = df[numerical] # here we are using all of the labels to train the model\n",
    "X = np.asarray(feature_df)\n",
    "y = np.asarray(df['Quality'])\n",
    "\n",
    "X_train, X_test, y_train, y_test = train_test_split( X, y, test_size=0.3, random_state=4)\n",
    "\n",
    "# train the model\n",
    "clf = svm.SVC(kernel='rbf')\n",
    "clf.fit(X_train, y_train)\n",
    "y_pred = clf.predict(X_test)"
   ]
  },
  {
   "cell_type": "markdown",
   "id": "a8b7cb6b",
   "metadata": {},
   "source": [
    "Now we will evaluate the new model and compare our results to the previous model."
   ]
  },
  {
   "cell_type": "code",
   "execution_count": 26,
   "id": "63118b8b",
   "metadata": {
    "scrolled": false
   },
   "outputs": [
    {
     "name": "stdout",
     "output_type": "stream",
     "text": [
      "Model accuracy score: 0.8633\n",
      "Training-set accuracy score: 0.9032\n",
      "Null accuracy score: 0.4850\n",
      "\n",
      "\n",
      "Confusion matrix\n",
      "\n",
      " [[523  95]\n",
      " [ 69 513]]\n",
      "\n",
      "True Positives(TP) =  523\n",
      "\n",
      "True Negatives(TN) =  513\n",
      "\n",
      "False Positives(FP) =  95\n",
      "\n",
      "False Negatives(FN) =  69\n",
      "              precision    recall  f1-score   support\n",
      "\n",
      "         bad       0.88      0.85      0.86       618\n",
      "        good       0.84      0.88      0.86       582\n",
      "\n",
      "    accuracy                           0.86      1200\n",
      "   macro avg       0.86      0.86      0.86      1200\n",
      "weighted avg       0.86      0.86      0.86      1200\n",
      "\n"
     ]
    },
    {
     "data": {
      "text/plain": [
       "<Axes: >"
      ]
     },
     "execution_count": 26,
     "metadata": {},
     "output_type": "execute_result"
    },
    {
     "data": {
      "image/png": "[encoded data removed]",
      "text/plain": [
       "<Figure size 640x480 with 2 Axes>"
      ]
     },
     "metadata": {},
     "output_type": "display_data"
    }
   ],
   "source": [
    "y_pred_train = clf.predict(X_train)\n",
    "    \n",
    "# return the most frequent value\n",
    "most_frequent = (y_test == \"good\").sum() if (y_test == \"bad\").sum() >= (y_test == \"Yes\").sum() else (y_test == \"Yes\").sum()\n",
    "null_accuracy = most_frequent/len(y_test)\n",
    "\n",
    "cm = confusion_matrix(y_test, y_pred)\n",
    "\n",
    "cm_matrix = pd.DataFrame(data=cm, columns=['Predict good', 'Predict bad'], \n",
    "                                 index=['Actual good', 'Actual bad'])\n",
    "\n",
    "\n",
    "\n",
    "\n",
    "print('Model accuracy score: {0:0.4f}'. format(accuracy_score(y_test, y_pred)))\n",
    "print('Training-set accuracy score: {0:0.4f}'. format(accuracy_score(y_train, y_pred_train)))\n",
    "print('Null accuracy score: {0:0.4f}'. format(null_accuracy))\n",
    "\n",
    "print('\\n\\nConfusion matrix\\n\\n', cm)\n",
    "print('\\nTrue Positives(TP) = ', cm[0,0])\n",
    "print('\\nTrue Negatives(TN) = ', cm[1,1])\n",
    "print('\\nFalse Positives(FP) = ', cm[0,1])\n",
    "print('\\nFalse Negatives(FN) = ', cm[1,0])\n",
    "\n",
    "print(classification_report(y_test, y_pred))\n",
    "sns.heatmap(cm_matrix, annot=True, fmt='d', cmap='YlGnBu')"
   ]
  },
  {
   "cell_type": "code",
   "execution_count": 27,
   "id": "c1a626a0",
   "metadata": {},
   "outputs": [
    {
     "name": "stdout",
     "output_type": "stream",
     "text": [
      "Accuracy : 0.8633\n",
      "Precision : 0.8463\n",
      "Recall: 0.8834\n",
      "Specificity : 0.8438\n",
      "NPV: 0.8814\n",
      "F1 Score: 0.8645\n",
      "Balanced Accuracy: 0.8636\n"
     ]
    }
   ],
   "source": [
    "TP = cm[0,0]\n",
    "TN = cm[1,1]\n",
    "FP = cm[0,1]\n",
    "FN = cm[1,0]\n",
    "\n",
    "precision = TP / float(TP + FP)\n",
    "recall = TP / float(TP + FN)\n",
    "specificity = TN / (TN + FP)\n",
    "negative_predictive_value = TN / (TN + FN)\n",
    "accuracy = (TP + TN) / float(TP + TN + FP + FN)\n",
    "f1_score = 2*((precision * recall) / (precision + recall))\n",
    "balanced_accuracy = (recall + specificity) / 2\n",
    "\n",
    "print('Accuracy : {0:0.4f}'.format(accuracy))\n",
    "print('Precision : {0:0.4f}'.format(precision))\n",
    "print('Recall: {0:0.4f}'.format(recall))\n",
    "print('Specificity : {0:0.4f}'.format(specificity))\n",
    "print('NPV: {0:0.4f}'.format(negative_predictive_value))\n",
    "print('F1 Score: {0:0.4f}'.format(f1_score))\n",
    "print('Balanced Accuracy: {0:0.4f}'.format(balanced_accuracy))"
   ]
  },
  {
   "cell_type": "markdown",
   "id": "625d0b5a",
   "metadata": {},
   "source": [
    "Immediately we can see an improvement in our model. Our accuracy has increased from 64% to 86%, putting it within acceptable range. However, the gap between the training set and testing set is about 4%, slightly higher than our last model, which is indicative of minor overfitting. Our next step to improve this would be to try ommiting some of the labels to see if we can improve the model further and reduce the overfitting. However, as it is now, the model is much improved from our previous one."
   ]
  },
  {
   "cell_type": "markdown",
   "id": "468b3a44",
   "metadata": {},
   "source": [
    "# **9. Conclusion** <a class=\"anchor\" id=\"9\"></a>\n",
    "[Table of Contents](#0.1)\n",
    "\n",
    "Looking back on what we've acheived in this notebook, we've successfully gone through the phases of CRISP-DM to generate a machine learning model that can accurately predict the quality of apples.\n",
    "1. `Business Understanding`: This phase helped us understand what our data represents so we could make better understand how to train our model to make predictions.\n",
    "2. `Data Understanding`: This phase showed us what type of data we were working with, and how to organize it to train our model.\n",
    "3. `Data Preperation`: This step allowed us to remove null values and prepare our data for modeling.\n",
    "4. `Modeling`: In this step we were able to use our training set to train the model, and validate it using the testing set.\n",
    "5. `Evaluation`: In this step, we were able to use a confusion matrix and ev.\n",
    "6. `Improvements`: After identifying an overfitting issue, we were able to revisit our business understanding to improve the model by removing labels that were unlikely to have a big impact on the predictivity of the model, and show an improvement by performing an evaluation on the new model."
   ]
  }
 ],
 "metadata": {
  "kernelspec": {
   "display_name": "Python 3 (ipykernel)",
   "language": "python",
   "name": "python3"
  },
  "language_info": {
   "codemirror_mode": {
    "name": "ipython",
    "version": 3
   },
   "file_extension": ".py",
   "mimetype": "text/x-python",
   "name": "python",
   "nbconvert_exporter": "python",
   "pygments_lexer": "ipython3",
   "version": "3.11.5"
  }
 },
 "nbformat": 4,
 "nbformat_minor": 5
}
